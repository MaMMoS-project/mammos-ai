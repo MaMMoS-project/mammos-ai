{
 "cells": [
  {
   "cell_type": "markdown",
   "id": "b2cf4cbc-9fc1-4a99-90ff-90aac6e900c3",
   "metadata": {},
   "source": [
    "# `mammos-ai` quickstart\n",
    "\n",
    "`mammos-ai` contains a collection of pre-trained models."
   ]
  },
  {
   "cell_type": "code",
   "execution_count": 1,
   "id": "0b44c18e-55b8-4e6a-a69a-6a715c620b36",
   "metadata": {},
   "outputs": [],
   "source": [
    "import mammos_ai"
   ]
  },
  {
   "cell_type": "code",
   "execution_count": 2,
   "id": "0c214d91-fa9f-4133-879b-a82cab9ce313",
   "metadata": {},
   "outputs": [
    {
     "data": {
      "text/plain": [
       "'0.1.0'"
      ]
     },
     "execution_count": 2,
     "metadata": {},
     "output_type": "execute_result"
    }
   ],
   "source": [
    "mammos_ai.__version__"
   ]
  }
 ],
 "metadata": {
  "kernelspec": {
   "display_name": "Python 3 (ipykernel)",
   "language": "python",
   "name": "python3"
  },
  "language_info": {
   "codemirror_mode": {
    "name": "ipython",
    "version": 3
   },
   "file_extension": ".py",
   "mimetype": "text/x-python",
   "name": "python",
   "nbconvert_exporter": "python",
   "pygments_lexer": "ipython3",
   "version": "3.11.0"
  }
 },
 "nbformat": 4,
 "nbformat_minor": 5
}
